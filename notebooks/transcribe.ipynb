{
 "cells": [
  {
   "cell_type": "code",
   "execution_count": null,
   "metadata": {},
   "outputs": [
    {
     "name": "stdout",
     "output_type": "stream",
     "text": [
      "Overwriting ../transcribe.py\n"
     ]
    }
   ],
   "source": [
    "%%writefile \"../transcribe.py\"\n",
    "#!/usr/bin/env python\n",
    "import colabexts\n",
    "from colabexts import jcommon\n",
    "import whisper,  os, datetime, argparse, io, soundfile, sys, hashlib, torch\n",
    "import numpy as np\n",
    "\n",
    "#-----------------------------models-----------------------------------------------------------------\n",
    "import platform\n",
    "device = \"cpu\"\n",
    "if (torch.cuda.is_available() ):\n",
    "    device = \"cuda\"\n",
    "#elif torch.backends.mps.is_available() and platform.processor() =='arm':\n",
    "#    device = \"mps\"\n",
    "#-----------------------------------------------------------------------------------\n",
    "def transcribe(file =\"/Users/snarayan/Desktop/data/audio/index.mp4\", **kwargs):\n",
    "    tr = whisper.load_model(\"base\", device=device)\n",
    "    result = tr.transcribe(file)\n",
    "    return result\n",
    "\n",
    "def para(txt):\n",
    "    sents = txt.split(\". \")\n",
    "    ret = \"\"\n",
    "    for i in range(0,len(sents),5):\n",
    "        ret +=  \" \".join(sents[i:i+5]) + \"\\n\"\n",
    "    return ret \n",
    "#-----------------------------------------------------------------------------------\n",
    "sysargs=None\n",
    "def addargs():\n",
    "    global sysargs\n",
    "    p = argparse.ArgumentParser(f\"{os.path.basename(sys.argv[0])}:\")\n",
    "    p.add_argument('-u', '--url', type=str, required=1, help=\"File, URL, Youtube URL\")\n",
    "    try:\n",
    "        sysargs, unknown=p.parse_known_args(sys.argv[1:])\n",
    "    except argparse.ArgumentError as exc:\n",
    "        print(exc.message )\n",
    "        \n",
    "    if (unknown):\n",
    "        print(\"Unknown options: \", unknown)\n",
    "    return sysargs\n",
    "#-----------------------------------------------------------------------------------\n",
    "if __name__ == '__main__':\n",
    "    if (not colabexts.jcommon.inJupyter()):\n",
    "        t1 = datetime.datetime.now()\n",
    "        sysargs = addargs()\n",
    "        ret = transcribe(sysargs.url)\n",
    "        par = para(ret['text'])\n",
    "\n",
    "        with open(sysargs.url + \".transcript\", \"w\") as f:\n",
    "            f.write(par)\n",
    "        t2 = datetime.datetime.now()\n",
    "        print(f\"#All Done in {str(t2-t1)} ***\")\n",
    "    else:\n",
    "        pass"
   ]
  },
  {
   "cell_type": "code",
   "execution_count": 8,
   "metadata": {},
   "outputs": [],
   "source": [
    "os.environ['PATH'] = os.environ.get('PATH') +':/opt/homebrew/bin'"
   ]
  },
  {
   "cell_type": "code",
   "execution_count": 28,
   "metadata": {},
   "outputs": [
    {
     "ename": "TypeError",
     "evalue": "write() argument must be str, not None",
     "output_type": "error",
     "traceback": [
      "\u001b[0;31m---------------------------------------------------------------------------\u001b[0m",
      "\u001b[0;31mTypeError\u001b[0m                                 Traceback (most recent call last)",
      "Cell \u001b[0;32mIn[28], line 6\u001b[0m\n\u001b[1;32m      3\u001b[0m par \u001b[38;5;241m=\u001b[39m para(ret[\u001b[38;5;124m'\u001b[39m\u001b[38;5;124mtext\u001b[39m\u001b[38;5;124m'\u001b[39m])\n\u001b[1;32m      5\u001b[0m \u001b[38;5;28;01mwith\u001b[39;00m \u001b[38;5;28mopen\u001b[39m(\u001b[38;5;124m\"\u001b[39m\u001b[38;5;124mtmp.txt\u001b[39m\u001b[38;5;124m\"\u001b[39m, \u001b[38;5;124m\"\u001b[39m\u001b[38;5;124mw\u001b[39m\u001b[38;5;124m\"\u001b[39m) \u001b[38;5;28;01mas\u001b[39;00m f:\n\u001b[0;32m----> 6\u001b[0m     \u001b[43mf\u001b[49m\u001b[38;5;241;43m.\u001b[39;49m\u001b[43mwrite\u001b[49m\u001b[43m(\u001b[49m\u001b[43mpar\u001b[49m\u001b[43m)\u001b[49m\n",
      "\u001b[0;31mTypeError\u001b[0m: write() argument must be str, not None"
     ]
    }
   ],
   "source": [
    "file= \"/Users/e346104/git/DS/vtube/static/vtube/videos/media/index.mp4\"\n",
    "ret = transcribe(file)\n",
    "par = para(ret['text'])\n",
    "\n",
    "with open(\"tmp.txt\", \"w\") as f:\n",
    "    f.write(par)\n",
    "\n"
   ]
  }
 ],
 "metadata": {
  "kernelspec": {
   "display_name": "py312",
   "language": "python",
   "name": "python3"
  },
  "language_info": {
   "codemirror_mode": {
    "name": "ipython",
    "version": 3
   },
   "file_extension": ".py",
   "mimetype": "text/x-python",
   "name": "python",
   "nbconvert_exporter": "python",
   "pygments_lexer": "ipython3",
   "version": "3.12.7"
  }
 },
 "nbformat": 4,
 "nbformat_minor": 2
}
