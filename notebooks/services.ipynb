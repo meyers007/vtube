{
 "cells": [
  {
   "cell_type": "code",
   "execution_count": 1,
   "id": "c51fdd47",
   "metadata": {},
   "outputs": [],
   "source": [
    "%reload_ext autoreload\n",
    "%autoreload 2"
   ]
  },
  {
   "cell_type": "code",
   "execution_count": null,
   "id": "4f56744f",
   "metadata": {},
   "outputs": [
    {
     "name": "stdout",
     "output_type": "stream",
     "text": [
      "Overwriting ../get_context.py\n"
     ]
    }
   ],
   "source": [
    "#%%writefile \"../service.py\"\n",
    "import sys, os, logging\n",
    "from mangorest.mango import webapi\n",
    "from io import BytesIO\n",
    "from django.conf import settings\n",
    "import requests\n",
    "\n",
    "logger = logging.getLogger( \"vtube\" )\n",
    "\n",
    "#-------------------------------------------------------------------------------------------    \n",
    "@webapi(\"/llmapp/get_details/\")\n",
    "def getDetails(request=None, user=\"me\", dest_dir=\"/tmp/vtube/\", vurl=\"\", **kwargs):\n",
    "    DESTDIR = f'{dest_dir}/{user}/'\n",
    "\n",
    "    if (not os.path.exists(DESTDIR)):\n",
    "        os.makedirs(DESTDIR)\n",
    "\n",
    "    vurl, transcripts,summary, qa = [\"\"]*4\n",
    "    \n",
    "\n",
    "    ret = dict( vurl= vurl, transcripts=transcripts, summary = summary, qa=qa)\n",
    "    return ret\n"
   ]
  },
  {
   "cell_type": "markdown",
   "id": "e458a124",
   "metadata": {},
   "source": [
    "# TEST "
   ]
  },
  {
   "cell_type": "code",
   "execution_count": null,
   "id": "581dff2a",
   "metadata": {},
   "outputs": [],
   "source": []
  }
 ],
 "metadata": {
  "hide_input": false,
  "kernelspec": {
   "display_name": "py312",
   "language": "python",
   "name": "python3"
  },
  "language_info": {
   "codemirror_mode": {
    "name": "ipython",
    "version": 3
   },
   "file_extension": ".py",
   "mimetype": "text/x-python",
   "name": "python",
   "nbconvert_exporter": "python",
   "pygments_lexer": "ipython3",
   "version": "3.12.7"
  },
  "toc": {
   "base_numbering": 1,
   "nav_menu": {},
   "number_sections": true,
   "sideBar": true,
   "skip_h1_title": false,
   "title_cell": "Table of Contents",
   "title_sidebar": "Contents",
   "toc_cell": false,
   "toc_position": {},
   "toc_section_display": true,
   "toc_window_display": false
  },
  "varInspector": {
   "cols": {
    "lenName": 16,
    "lenType": 16,
    "lenVar": 40
   },
   "kernels_config": {
    "python": {
     "delete_cmd_postfix": "",
     "delete_cmd_prefix": "del ",
     "library": "var_list.py",
     "varRefreshCmd": "print(var_dic_list())"
    },
    "r": {
     "delete_cmd_postfix": ") ",
     "delete_cmd_prefix": "rm(",
     "library": "var_list.r",
     "varRefreshCmd": "cat(var_dic_list()) "
    }
   },
   "types_to_exclude": [
    "module",
    "function",
    "builtin_function_or_method",
    "instance",
    "_Feature"
   ],
   "window_display": false
  }
 },
 "nbformat": 4,
 "nbformat_minor": 5
}
