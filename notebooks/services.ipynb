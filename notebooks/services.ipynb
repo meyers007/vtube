{
 "cells": [
  {
   "cell_type": "code",
   "execution_count": 1,
   "id": "c51fdd47",
   "metadata": {},
   "outputs": [],
   "source": [
    "%reload_ext autoreload\n",
    "%autoreload 2"
   ]
  },
  {
   "cell_type": "code",
   "execution_count": null,
   "id": "4f56744f",
   "metadata": {},
   "outputs": [
    {
     "name": "stdout",
     "output_type": "stream",
     "text": [
      "Overwriting ../services.py\n"
     ]
    }
   ],
   "source": [
    "%%writefile \"../services.py\"\n",
    "import sys, os, logging, datetime\n",
    "from mangorest.mango import webapi\n",
    "from io import BytesIO\n",
    "#from django.conf import settings\n",
    "\n",
    "logger = logging.getLogger( \"vtube\" )\n",
    "\n",
    "#-------------------------------------------------------------------------------------------    \n",
    "@webapi(\"/vtube/getDetails/\")\n",
    "def getDetails(request=None, user=\"me\", dest_dir=\"/tmp/vtube/\", src=\"\", **kwargs):\n",
    "    print(f\" Requesting {src}\")\n",
    "    transcripts,summary, qa = \"\", \"\", \"\"\n",
    "    if ( src):\n",
    "        nbase = \"\"\n",
    "        if src.startswith(\"/static/vtube/\"):\n",
    "            nbase = \"vtube/\" + src\n",
    "        if os.path.exists(nbase+\".transcript\"):\n",
    "            with(open(nbase+\".transcript\")) as f:\n",
    "                transcripts = f.read();\n",
    "        if os.path.exists(nbase+\".qa\"):\n",
    "            with(open(nbase+\".qa\")) as f:\n",
    "                qa = f.read();\n",
    "        if os.path.exists(nbase+\".summary\"):\n",
    "            with(open(nbase+\".summary\")) as f:\n",
    "                summary = f.read();\n",
    "\n",
    "    ret = dict( src= src, transcripts=transcripts, summary = summary, qa=qa)\n",
    "    return ret\n",
    "\n",
    "@webapi(\"/vtube/addQA/\")\n",
    "def addQA(request=None, user=\"me\", comments=\"\", src=\"\", **kwargs):\n",
    "    print(f\" Adding QA to {src}\")\n",
    "\n",
    "    qa = \"\"\n",
    "    if (not comments.strip() or not src):\n",
    "        return qa\n",
    "\n",
    "    nbase = \"vtube/static/vtube/videos/media/\"\n",
    "    if (\"https://\" in src or \"http://\" in src):\n",
    "        if (src.endswith(\"/\")):\n",
    "            src = src[:-1]\n",
    "        nbase += src.split(\"/\")[-1]\n",
    "    elif src.startswith(\"/static/vtube/\"):\n",
    "        nbase = \"vtube/\" + src\n",
    "\n",
    "\n",
    "    qaFILEName = nbase+\".qa\"\n",
    "    if os.path.exists(qaFILEName):\n",
    "        with(open(qaFILEName)) as f:\n",
    "            qa = f.read();\n",
    "    qa += f\"<div class=vtubeComments> {user} {datetime.datetime.now()}: {comments}</div>\"\n",
    "    with(open(qaFILEName , \"wt\")) as f:\n",
    "        f.write(qa);\n",
    "    print(f\" Adding QA to {src}: {qa}\")\n",
    "\n",
    "    return qa\n",
    "\n",
    "\n",
    "@webapi(\"/vtube/update/\")\n",
    "def updateMeta(request=None, user=\"me\", what=\"trans|summary\", content=\"\", src=\"\", **kwargs):\n",
    "    print(f\" Adding {content} => {what} to {src}\")\n",
    "    if (not content.strip() or not src ):\n",
    "        return \"Nothing updated!!\"\n",
    "\n",
    "    nbase = \"vtube/static/vtube/videos/media/\"\n",
    "    if (\"https://\" in src or \"http://\" in src):\n",
    "        if (src.endswith(\"/\")):\n",
    "            src = src[:-1]\n",
    "        nbase += src.split(\"/\")[-1]\n",
    "    elif src.startswith(\"/static/vtube/\"):\n",
    "        nbase = \"vtube/\" + src\n",
    "\n",
    "    trFILEName = nbase+\".transcript\"\n",
    "    smFILEName = nbase+\".summary\"\n",
    "\n",
    "    if (what.startswith(\"tr\")):\n",
    "        file = trFILEName\n",
    "    else:\n",
    "        file = smFILEName\n",
    "\n",
    "    qa = f\"Updated by, {user} {datetime.datetime.now()}:<br/> {content}\"\n",
    "    print(\"===> \" , qa , file)\n",
    "    with(open(file , \"wt\")) as f:\n",
    "        f.write(qa);\n",
    "\n",
    "    return qa"
   ]
  },
  {
   "cell_type": "markdown",
   "id": "e458a124",
   "metadata": {},
   "source": [
    "# TEST "
   ]
  },
  {
   "cell_type": "code",
   "execution_count": 50,
   "id": "581dff2a",
   "metadata": {},
   "outputs": [
    {
     "data": {
      "text/plain": [
       "'Yq0QkCxoTHM?si=H3jXvJfBfK8xjpL7'"
      ]
     },
     "execution_count": 50,
     "metadata": {},
     "output_type": "execute_result"
    }
   ],
   "source": [
    "src='https://www.youtube.com/embed/Yq0QkCxoTHM?si=H3jXvJfBfK8xjpL7'\n",
    "if (src.endswith(\"/\")):\n",
    "    src = src[:-1]\n",
    "src.split(\"/\")[-1]"
   ]
  }
 ],
 "metadata": {
  "hide_input": false,
  "kernelspec": {
   "display_name": "py312",
   "language": "python",
   "name": "python3"
  },
  "language_info": {
   "codemirror_mode": {
    "name": "ipython",
    "version": 3
   },
   "file_extension": ".py",
   "mimetype": "text/x-python",
   "name": "python",
   "nbconvert_exporter": "python",
   "pygments_lexer": "ipython3",
   "version": "3.12.7"
  },
  "toc": {
   "base_numbering": 1,
   "nav_menu": {},
   "number_sections": true,
   "sideBar": true,
   "skip_h1_title": false,
   "title_cell": "Table of Contents",
   "title_sidebar": "Contents",
   "toc_cell": false,
   "toc_position": {},
   "toc_section_display": true,
   "toc_window_display": false
  },
  "varInspector": {
   "cols": {
    "lenName": 16,
    "lenType": 16,
    "lenVar": 40
   },
   "kernels_config": {
    "python": {
     "delete_cmd_postfix": "",
     "delete_cmd_prefix": "del ",
     "library": "var_list.py",
     "varRefreshCmd": "print(var_dic_list())"
    },
    "r": {
     "delete_cmd_postfix": ") ",
     "delete_cmd_prefix": "rm(",
     "library": "var_list.r",
     "varRefreshCmd": "cat(var_dic_list()) "
    }
   },
   "types_to_exclude": [
    "module",
    "function",
    "builtin_function_or_method",
    "instance",
    "_Feature"
   ],
   "window_display": false
  }
 },
 "nbformat": 4,
 "nbformat_minor": 5
}
